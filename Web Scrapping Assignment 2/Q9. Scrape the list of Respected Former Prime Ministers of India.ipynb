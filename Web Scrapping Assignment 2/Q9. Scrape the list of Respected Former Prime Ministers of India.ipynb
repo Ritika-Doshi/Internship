{
 "cells": [
  {
   "cell_type": "markdown",
   "id": "05b52f51",
   "metadata": {},
   "source": [
    "## Write a python program to display list of respected former Prime Ministers of India."
   ]
  },
  {
   "cell_type": "code",
   "execution_count": 13,
   "id": "dfa7ce3c",
   "metadata": {
    "scrolled": false
   },
   "outputs": [
    {
     "name": "stdout",
     "output_type": "stream",
     "text": [
      "Requirement already satisfied: selenium in /Users/pratikajain/anaconda3/lib/python3.10/site-packages (4.17.2)\r\n",
      "Requirement already satisfied: trio~=0.17 in /Users/pratikajain/anaconda3/lib/python3.10/site-packages (from selenium) (0.24.0)\r\n",
      "Requirement already satisfied: trio-websocket~=0.9 in /Users/pratikajain/anaconda3/lib/python3.10/site-packages (from selenium) (0.11.1)\r\n",
      "Requirement already satisfied: urllib3[socks]<3,>=1.26 in /Users/pratikajain/anaconda3/lib/python3.10/site-packages (from selenium) (1.26.14)\r\n",
      "Requirement already satisfied: typing_extensions>=4.9.0 in /Users/pratikajain/anaconda3/lib/python3.10/site-packages (from selenium) (4.9.0)\r\n",
      "Requirement already satisfied: certifi>=2021.10.8 in /Users/pratikajain/anaconda3/lib/python3.10/site-packages (from selenium) (2022.12.7)\r\n",
      "Requirement already satisfied: attrs>=20.1.0 in /Users/pratikajain/anaconda3/lib/python3.10/site-packages (from trio~=0.17->selenium) (22.1.0)\r\n",
      "Requirement already satisfied: idna in /Users/pratikajain/anaconda3/lib/python3.10/site-packages (from trio~=0.17->selenium) (3.4)\r\n",
      "Requirement already satisfied: outcome in /Users/pratikajain/anaconda3/lib/python3.10/site-packages (from trio~=0.17->selenium) (1.3.0.post0)\r\n",
      "Requirement already satisfied: sniffio>=1.3.0 in /Users/pratikajain/anaconda3/lib/python3.10/site-packages (from trio~=0.17->selenium) (1.3.0)\r\n",
      "Requirement already satisfied: sortedcontainers in /Users/pratikajain/anaconda3/lib/python3.10/site-packages (from trio~=0.17->selenium) (2.4.0)\r\n",
      "Requirement already satisfied: exceptiongroup in /Users/pratikajain/anaconda3/lib/python3.10/site-packages (from trio~=0.17->selenium) (1.2.0)\r\n",
      "Requirement already satisfied: wsproto>=0.14 in /Users/pratikajain/anaconda3/lib/python3.10/site-packages (from trio-websocket~=0.9->selenium) (1.2.0)\r\n",
      "Requirement already satisfied: PySocks!=1.5.7,<2.0,>=1.5.6 in /Users/pratikajain/anaconda3/lib/python3.10/site-packages (from urllib3[socks]<3,>=1.26->selenium) (1.7.1)\r\n",
      "Requirement already satisfied: h11<1,>=0.9.0 in /Users/pratikajain/anaconda3/lib/python3.10/site-packages (from wsproto>=0.14->trio-websocket~=0.9->selenium) (0.14.0)\r\n"
     ]
    }
   ],
   "source": [
    "!pip install selenium\n",
    "import selenium\n",
    "import pandas as pd\n",
    "from selenium import webdriver\n",
    "import warnings\n",
    "warnings.filterwarnings('ignore')\n",
    "from selenium.webdriver.common.by import By\n",
    "import time"
   ]
  },
  {
   "cell_type": "code",
   "execution_count": 14,
   "id": "a9dd7dc2",
   "metadata": {},
   "outputs": [],
   "source": [
    "driver = webdriver.Chrome()"
   ]
  },
  {
   "cell_type": "code",
   "execution_count": 15,
   "id": "f45435e1",
   "metadata": {},
   "outputs": [],
   "source": [
    "driver.get(\"https://www.jagranjosh.com\")"
   ]
  },
  {
   "cell_type": "code",
   "execution_count": 19,
   "id": "68dfe7bb",
   "metadata": {},
   "outputs": [],
   "source": [
    "Gk=driver.find_element(By.XPATH,'/html/body/div/header/nav/div/div/div[3]/ul/li[3]/a')\n",
    "Gk.click()"
   ]
  },
  {
   "cell_type": "code",
   "execution_count": 20,
   "id": "6af41e6f",
   "metadata": {},
   "outputs": [],
   "source": [
    "complete_list=driver.find_element(By.XPATH,'/html/body/div[1]/main/div[1]/div[1]/section/div/ul/li[7]/article/h3/a')\n",
    "complete_list.click()"
   ]
  },
  {
   "cell_type": "code",
   "execution_count": 28,
   "id": "cd89c260",
   "metadata": {},
   "outputs": [],
   "source": [
    "PM_Name=[]\n",
    "Born_Dead=[]\n",
    "Term_of_office=[]\n",
    "Remark=[]"
   ]
  },
  {
   "cell_type": "code",
   "execution_count": 29,
   "id": "157f16bd",
   "metadata": {},
   "outputs": [],
   "source": [
    "names=driver.find_elements(By.XPATH,'//td[@valign=\"top\"]//a')\n",
    "for i in names:\n",
    "    PM=i.text\n",
    "    PM_Name.append(PM)\n",
    "\n",
    "tenure=driver.find_elements(By.XPATH,'//*[@id=\"itemdiv\"]/div[3]/div[6]/div/table/tbody/tr[2]/td[3]/div')\n",
    "for i in tenure:\n",
    "    Bo_de=i.text\n",
    "    Born_Dead.append(Bo_de)\n",
    "                            \n",
    "Terms=driver.find_elements(By.XPATH,'//td[@valign=\"top\"]//span')\n",
    "for i in Terms:\n",
    "    term=i.text\n",
    "    Term_of_office.append(term)\n",
    "\n",
    "rem=driver.find_elements(By.XPATH,'//td[@valign=\"top\"]//div')\n",
    "for i in rem:\n",
    "    remark=i.text\n",
    "    Remark.append(rem)"
   ]
  },
  {
   "cell_type": "code",
   "execution_count": 30,
   "id": "3e3cffa1",
   "metadata": {},
   "outputs": [
    {
     "name": "stdout",
     "output_type": "stream",
     "text": [
      "9 1 33 101\n"
     ]
    }
   ],
   "source": [
    "print(len(PM_Name),len(Born_Dead),len(Term_of_office),len(Remark))"
   ]
  },
  {
   "cell_type": "code",
   "execution_count": 27,
   "id": "b841d61f",
   "metadata": {
    "scrolled": true
   },
   "outputs": [
    {
     "data": {
      "text/html": [
       "<div>\n",
       "<style scoped>\n",
       "    .dataframe tbody tr th:only-of-type {\n",
       "        vertical-align: middle;\n",
       "    }\n",
       "\n",
       "    .dataframe tbody tr th {\n",
       "        vertical-align: top;\n",
       "    }\n",
       "\n",
       "    .dataframe thead th {\n",
       "        text-align: right;\n",
       "    }\n",
       "</style>\n",
       "<table border=\"1\" class=\"dataframe\">\n",
       "  <thead>\n",
       "    <tr style=\"text-align: right;\">\n",
       "      <th></th>\n",
       "      <th>PM Name</th>\n",
       "      <th>Born Dead</th>\n",
       "      <th>Term of office</th>\n",
       "      <th>Remark</th>\n",
       "    </tr>\n",
       "  </thead>\n",
       "  <tbody>\n",
       "    <tr>\n",
       "      <th>0</th>\n",
       "      <td>Jawahar Lal Nehru</td>\n",
       "      <td>15 August 1947 to 27 May 1964</td>\n",
       "      <td>1.</td>\n",
       "      <td>[&lt;selenium.webdriver.remote.webelement.WebElem...</td>\n",
       "    </tr>\n",
       "    <tr>\n",
       "      <th>1</th>\n",
       "      <td>Indira Gandhi</td>\n",
       "      <td>16 years, 286 days</td>\n",
       "      <td>Jawahar Lal Nehru</td>\n",
       "      <td>[&lt;selenium.webdriver.remote.webelement.WebElem...</td>\n",
       "    </tr>\n",
       "    <tr>\n",
       "      <th>2</th>\n",
       "      <td>Indira Gandhi</td>\n",
       "      <td>27 May 1964 to 9 June 1964,</td>\n",
       "      <td>(1889–1964)</td>\n",
       "      <td>[&lt;selenium.webdriver.remote.webelement.WebElem...</td>\n",
       "    </tr>\n",
       "    <tr>\n",
       "      <th>3</th>\n",
       "      <td>Rajiv Gandhi</td>\n",
       "      <td>13 days</td>\n",
       "      <td>15 August 1947 to 27 May 1964</td>\n",
       "      <td>[&lt;selenium.webdriver.remote.webelement.WebElem...</td>\n",
       "    </tr>\n",
       "    <tr>\n",
       "      <th>4</th>\n",
       "      <td>Chandra Shekhar</td>\n",
       "      <td>9 June 1964 to 11 January 1966</td>\n",
       "      <td>16 years, 286 days</td>\n",
       "      <td>[&lt;selenium.webdriver.remote.webelement.WebElem...</td>\n",
       "    </tr>\n",
       "    <tr>\n",
       "      <th>5</th>\n",
       "      <td>Atal Bihari Vajpayee</td>\n",
       "      <td>1 year, 216 days</td>\n",
       "      <td>The first prime minister of India and the long...</td>\n",
       "      <td>[&lt;selenium.webdriver.remote.webelement.WebElem...</td>\n",
       "    </tr>\n",
       "    <tr>\n",
       "      <th>6</th>\n",
       "      <td>Atal Bihari Vajpayee</td>\n",
       "      <td>24 January 1966 to 24 March 1977</td>\n",
       "      <td>2.</td>\n",
       "      <td>[&lt;selenium.webdriver.remote.webelement.WebElem...</td>\n",
       "    </tr>\n",
       "    <tr>\n",
       "      <th>7</th>\n",
       "      <td>Manmohan Singh</td>\n",
       "      <td>11 years, 59 days</td>\n",
       "      <td>Gulzarilal Nanda (Acting)</td>\n",
       "      <td>[&lt;selenium.webdriver.remote.webelement.WebElem...</td>\n",
       "    </tr>\n",
       "    <tr>\n",
       "      <th>8</th>\n",
       "      <td>Narendra Modi</td>\n",
       "      <td>24 March 1977 to  28 July 1979</td>\n",
       "      <td>(1898-1998)</td>\n",
       "      <td>[&lt;selenium.webdriver.remote.webelement.WebElem...</td>\n",
       "    </tr>\n",
       "    <tr>\n",
       "      <th>9</th>\n",
       "      <td>Jawahar Lal Nehru</td>\n",
       "      <td>2 year, 126 days</td>\n",
       "      <td>27 May 1964 to 9 June 1964,</td>\n",
       "      <td>[&lt;selenium.webdriver.remote.webelement.WebElem...</td>\n",
       "    </tr>\n",
       "  </tbody>\n",
       "</table>\n",
       "</div>"
      ],
      "text/plain": [
       "                PM Name                         Born Dead  \\\n",
       "0     Jawahar Lal Nehru     15 August 1947 to 27 May 1964   \n",
       "1         Indira Gandhi                16 years, 286 days   \n",
       "2         Indira Gandhi       27 May 1964 to 9 June 1964,   \n",
       "3          Rajiv Gandhi                           13 days   \n",
       "4       Chandra Shekhar    9 June 1964 to 11 January 1966   \n",
       "5  Atal Bihari Vajpayee                  1 year, 216 days   \n",
       "6  Atal Bihari Vajpayee  24 January 1966 to 24 March 1977   \n",
       "7        Manmohan Singh                 11 years, 59 days   \n",
       "8         Narendra Modi   24 March 1977 to  28 July 1979    \n",
       "9     Jawahar Lal Nehru                  2 year, 126 days   \n",
       "\n",
       "                                      Term of office  \\\n",
       "0                                                 1.   \n",
       "1                                  Jawahar Lal Nehru   \n",
       "2                                        (1889–1964)   \n",
       "3                      15 August 1947 to 27 May 1964   \n",
       "4                                 16 years, 286 days   \n",
       "5  The first prime minister of India and the long...   \n",
       "6                                                 2.   \n",
       "7                          Gulzarilal Nanda (Acting)   \n",
       "8                                        (1898-1998)   \n",
       "9                        27 May 1964 to 9 June 1964,   \n",
       "\n",
       "                                              Remark  \n",
       "0  [<selenium.webdriver.remote.webelement.WebElem...  \n",
       "1  [<selenium.webdriver.remote.webelement.WebElem...  \n",
       "2  [<selenium.webdriver.remote.webelement.WebElem...  \n",
       "3  [<selenium.webdriver.remote.webelement.WebElem...  \n",
       "4  [<selenium.webdriver.remote.webelement.WebElem...  \n",
       "5  [<selenium.webdriver.remote.webelement.WebElem...  \n",
       "6  [<selenium.webdriver.remote.webelement.WebElem...  \n",
       "7  [<selenium.webdriver.remote.webelement.WebElem...  \n",
       "8  [<selenium.webdriver.remote.webelement.WebElem...  \n",
       "9  [<selenium.webdriver.remote.webelement.WebElem...  "
      ]
     },
     "execution_count": 27,
     "metadata": {},
     "output_type": "execute_result"
    }
   ],
   "source": [
    "df=pd.DataFrame({\"PM Name\":PM_Name[:10],\"Born Dead\":Born_Dead[:10],\"Term of office\":Term_of_office[:10],\"Remark\":Remark[:10]})\n",
    "df"
   ]
  },
  {
   "cell_type": "code",
   "execution_count": null,
   "id": "a4ab0e04",
   "metadata": {},
   "outputs": [],
   "source": []
  }
 ],
 "metadata": {
  "kernelspec": {
   "display_name": "Python 3 (ipykernel)",
   "language": "python",
   "name": "python3"
  },
  "language_info": {
   "codemirror_mode": {
    "name": "ipython",
    "version": 3
   },
   "file_extension": ".py",
   "mimetype": "text/x-python",
   "name": "python",
   "nbconvert_exporter": "python",
   "pygments_lexer": "ipython3",
   "version": "3.10.9"
  }
 },
 "nbformat": 4,
 "nbformat_minor": 5
}
