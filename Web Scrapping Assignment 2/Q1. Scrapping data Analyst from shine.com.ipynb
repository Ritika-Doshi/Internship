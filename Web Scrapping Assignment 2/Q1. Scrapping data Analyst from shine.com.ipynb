{
 "cells": [
  {
   "cell_type": "markdown",
   "id": "428039db",
   "metadata": {},
   "source": [
    "## Q1: Write a python program to scrape data for “Data Analyst” Job position in “Bangalore” location. You have to scrape the job-title, job-location, company_name, experience_required. You have to scrape first 10 jobs data."
   ]
  },
  {
   "cell_type": "code",
   "execution_count": 3,
   "id": "53baed45",
   "metadata": {},
   "outputs": [
    {
     "name": "stdout",
     "output_type": "stream",
     "text": [
      "Requirement already satisfied: selenium in /Users/pratikajain/anaconda3/lib/python3.10/site-packages (4.17.2)\r\n",
      "Requirement already satisfied: typing_extensions>=4.9.0 in /Users/pratikajain/anaconda3/lib/python3.10/site-packages (from selenium) (4.9.0)\r\n",
      "Requirement already satisfied: trio~=0.17 in /Users/pratikajain/anaconda3/lib/python3.10/site-packages (from selenium) (0.24.0)\r\n",
      "Requirement already satisfied: certifi>=2021.10.8 in /Users/pratikajain/anaconda3/lib/python3.10/site-packages (from selenium) (2022.12.7)\r\n",
      "Requirement already satisfied: urllib3[socks]<3,>=1.26 in /Users/pratikajain/anaconda3/lib/python3.10/site-packages (from selenium) (1.26.14)\r\n",
      "Requirement already satisfied: trio-websocket~=0.9 in /Users/pratikajain/anaconda3/lib/python3.10/site-packages (from selenium) (0.11.1)\r\n",
      "Requirement already satisfied: sniffio>=1.3.0 in /Users/pratikajain/anaconda3/lib/python3.10/site-packages (from trio~=0.17->selenium) (1.3.0)\r\n",
      "Requirement already satisfied: attrs>=20.1.0 in /Users/pratikajain/anaconda3/lib/python3.10/site-packages (from trio~=0.17->selenium) (22.1.0)\r\n",
      "Requirement already satisfied: exceptiongroup in /Users/pratikajain/anaconda3/lib/python3.10/site-packages (from trio~=0.17->selenium) (1.2.0)\r\n",
      "Requirement already satisfied: sortedcontainers in /Users/pratikajain/anaconda3/lib/python3.10/site-packages (from trio~=0.17->selenium) (2.4.0)\r\n",
      "Requirement already satisfied: idna in /Users/pratikajain/anaconda3/lib/python3.10/site-packages (from trio~=0.17->selenium) (3.4)\r\n",
      "Requirement already satisfied: outcome in /Users/pratikajain/anaconda3/lib/python3.10/site-packages (from trio~=0.17->selenium) (1.3.0.post0)\r\n",
      "Requirement already satisfied: wsproto>=0.14 in /Users/pratikajain/anaconda3/lib/python3.10/site-packages (from trio-websocket~=0.9->selenium) (1.2.0)\r\n",
      "Requirement already satisfied: PySocks!=1.5.7,<2.0,>=1.5.6 in /Users/pratikajain/anaconda3/lib/python3.10/site-packages (from urllib3[socks]<3,>=1.26->selenium) (1.7.1)\r\n",
      "Requirement already satisfied: h11<1,>=0.9.0 in /Users/pratikajain/anaconda3/lib/python3.10/site-packages (from wsproto>=0.14->trio-websocket~=0.9->selenium) (0.14.0)\r\n"
     ]
    }
   ],
   "source": [
    "!pip install selenium"
   ]
  },
  {
   "cell_type": "code",
   "execution_count": 4,
   "id": "bbe8f877",
   "metadata": {},
   "outputs": [],
   "source": [
    "import selenium\n",
    "import pandas as pd\n",
    "from selenium import webdriver\n",
    "import warnings\n",
    "warnings.filterwarnings('ignore')\n",
    "from selenium.webdriver.common.by import By\n",
    "import time"
   ]
  },
  {
   "cell_type": "code",
   "execution_count": 15,
   "id": "ff10c151",
   "metadata": {},
   "outputs": [],
   "source": [
    "driver = webdriver.Chrome()"
   ]
  },
  {
   "cell_type": "code",
   "execution_count": 16,
   "id": "6c9dbbfd",
   "metadata": {},
   "outputs": [],
   "source": [
    "driver.get(\"https://www.shine.com/\")"
   ]
  },
  {
   "cell_type": "code",
   "execution_count": 18,
   "id": "4c83f9a2",
   "metadata": {
    "scrolled": true
   },
   "outputs": [],
   "source": [
    "designation = driver.find_element(By.CLASS_NAME,\"form-control\")\n",
    "designation.send_keys('Data analyst')"
   ]
  },
  {
   "cell_type": "code",
   "execution_count": 19,
   "id": "d782f684",
   "metadata": {},
   "outputs": [],
   "source": [
    "location =driver.find_element(By.ID,\"id_loc\")\n",
    "location.send_keys('Bangalore')"
   ]
  },
  {
   "cell_type": "code",
   "execution_count": 22,
   "id": "0b10818f",
   "metadata": {},
   "outputs": [],
   "source": [
    "search=driver.find_element(By.XPATH,\"/html/body/div/div[4]/div/div[2]/div[2]/div/form/div/div[2]/div/button\")\n",
    "search.click()"
   ]
  },
  {
   "cell_type": "code",
   "execution_count": 30,
   "id": "c2293b27",
   "metadata": {},
   "outputs": [],
   "source": [
    "job_title=[]\n",
    "job_locations=[]\n",
    "company_name=[]\n",
    "experience_required=[]"
   ]
  },
  {
   "cell_type": "code",
   "execution_count": 34,
   "id": "2db67d3e",
   "metadata": {
    "scrolled": true
   },
   "outputs": [],
   "source": [
    "title_tags=driver.find_elements(By.XPATH,'//h2[@itemprop=\"name\"]//a')\n",
    "for i in title_tags:\n",
    "    title=i.text\n",
    "    job_title.append(title)\n",
    "    \n",
    "job_title= job_title[:10]\n",
    "\n"
   ]
  },
  {
   "cell_type": "code",
   "execution_count": 39,
   "id": "cd869e35",
   "metadata": {},
   "outputs": [],
   "source": [
    "locations=driver.find_elements(By.XPATH,'//div[@class=\" jobCard_jobCard_lists_item__YxRkV jobCard_locationIcon__zrWt2\"]')\n",
    "for i in locations:\n",
    "    location =i.text\n",
    "    job_locations.append(location)\n",
    "                            \n",
    "job_locations=job_locations[:10]\n",
    "\n"
   ]
  },
  {
   "cell_type": "code",
   "execution_count": 41,
   "id": "541fa2f3",
   "metadata": {},
   "outputs": [],
   "source": [
    "company_tags=driver.find_elements(By.XPATH,'//div[@class=\"jobCard_jobCard_cName__mYnow\"]//span')\n",
    "for i in company_tags:\n",
    "    company=i.text\n",
    "    company_name.append(company)\n",
    "                                \n",
    "company_name=company_name[:10]\n",
    "\n",
    "experience_tags=driver.find_elements(By.XPATH,'//div[@class=\" jobCard_jobCard_lists_item__YxRkV jobCard_jobIcon__3FB1t\"]')\n",
    "for i in experience_tags:\n",
    "    experience=i.text\n",
    "    experience_required.append(experience)\n",
    "                            \n",
    "experience_required=experience_required[:10]"
   ]
  },
  {
   "cell_type": "code",
   "execution_count": 42,
   "id": "ff77ad73",
   "metadata": {},
   "outputs": [
    {
     "name": "stdout",
     "output_type": "stream",
     "text": [
      "10 10 10 10\n"
     ]
    }
   ],
   "source": [
    "print(len(job_title),len(job_locations),len(company_name),len(experience_required))"
   ]
  },
  {
   "cell_type": "code",
   "execution_count": 43,
   "id": "261ceca5",
   "metadata": {},
   "outputs": [
    {
     "data": {
      "text/html": [
       "<div>\n",
       "<style scoped>\n",
       "    .dataframe tbody tr th:only-of-type {\n",
       "        vertical-align: middle;\n",
       "    }\n",
       "\n",
       "    .dataframe tbody tr th {\n",
       "        vertical-align: top;\n",
       "    }\n",
       "\n",
       "    .dataframe thead th {\n",
       "        text-align: right;\n",
       "    }\n",
       "</style>\n",
       "<table border=\"1\" class=\"dataframe\">\n",
       "  <thead>\n",
       "    <tr style=\"text-align: right;\">\n",
       "      <th></th>\n",
       "      <th>Job Title</th>\n",
       "      <th>Location</th>\n",
       "      <th>Company name</th>\n",
       "      <th>Experience required</th>\n",
       "    </tr>\n",
       "  </thead>\n",
       "  <tbody>\n",
       "    <tr>\n",
       "      <th>0</th>\n",
       "      <td>Lead Data Analyst</td>\n",
       "      <td>Bangalore</td>\n",
       "      <td>ara resources private limited</td>\n",
       "      <td>4 to 9 Yrs</td>\n",
       "    </tr>\n",
       "    <tr>\n",
       "      <th>1</th>\n",
       "      <td>Data Analyst</td>\n",
       "      <td>Bangalore\\n+3</td>\n",
       "      <td>diraa hr services hiring for mncs</td>\n",
       "      <td>0 to 1 Yr</td>\n",
       "    </tr>\n",
       "    <tr>\n",
       "      <th>2</th>\n",
       "      <td>Vacancy For Data Analyst</td>\n",
       "      <td>Bangalore\\n+14</td>\n",
       "      <td>yogita staffing solution</td>\n",
       "      <td>0 to 3 Yrs</td>\n",
       "    </tr>\n",
       "    <tr>\n",
       "      <th>3</th>\n",
       "      <td>Clinical Data Analyst</td>\n",
       "      <td>Bangalore\\n+6</td>\n",
       "      <td>techno endura</td>\n",
       "      <td>0 to 1 Yr</td>\n",
       "    </tr>\n",
       "    <tr>\n",
       "      <th>4</th>\n",
       "      <td>Data Management</td>\n",
       "      <td>Bangalore\\n+18</td>\n",
       "      <td>future solution centre</td>\n",
       "      <td>15 to &gt;25 Yrs</td>\n",
       "    </tr>\n",
       "    <tr>\n",
       "      <th>5</th>\n",
       "      <td>Data Modeler data</td>\n",
       "      <td>Bangalore</td>\n",
       "      <td>boyen haddin consulting and technol...</td>\n",
       "      <td>3 to 6 Yrs</td>\n",
       "    </tr>\n",
       "    <tr>\n",
       "      <th>6</th>\n",
       "      <td>Data Modeller</td>\n",
       "      <td>Bangalore</td>\n",
       "      <td>boyen haddin consulting and technol...</td>\n",
       "      <td>3 to 6 Yrs</td>\n",
       "    </tr>\n",
       "    <tr>\n",
       "      <th>7</th>\n",
       "      <td>Data Modeler Bangalore</td>\n",
       "      <td>Bangalore</td>\n",
       "      <td>boyen haddin consulting and technol...</td>\n",
       "      <td>3 to 6 Yrs</td>\n",
       "    </tr>\n",
       "    <tr>\n",
       "      <th>8</th>\n",
       "      <td>Data Modeler</td>\n",
       "      <td>Bangalore</td>\n",
       "      <td>boyen haddin consulting and technol...</td>\n",
       "      <td>3 to 6 Yrs</td>\n",
       "    </tr>\n",
       "    <tr>\n",
       "      <th>9</th>\n",
       "      <td>Full time Opportunity-Networking Advisor-Cisco...</td>\n",
       "      <td>Bangalore\\n+5</td>\n",
       "      <td>ntt data information processing ser...</td>\n",
       "      <td>10 to 20 Yrs</td>\n",
       "    </tr>\n",
       "  </tbody>\n",
       "</table>\n",
       "</div>"
      ],
      "text/plain": [
       "                                           Job Title        Location  \\\n",
       "0                                  Lead Data Analyst       Bangalore   \n",
       "1                                       Data Analyst   Bangalore\\n+3   \n",
       "2                           Vacancy For Data Analyst  Bangalore\\n+14   \n",
       "3                              Clinical Data Analyst   Bangalore\\n+6   \n",
       "4                                    Data Management  Bangalore\\n+18   \n",
       "5                                  Data Modeler data       Bangalore   \n",
       "6                                      Data Modeller       Bangalore   \n",
       "7                             Data Modeler Bangalore       Bangalore   \n",
       "8                                       Data Modeler       Bangalore   \n",
       "9  Full time Opportunity-Networking Advisor-Cisco...   Bangalore\\n+5   \n",
       "\n",
       "                             Company name Experience required  \n",
       "0           ara resources private limited          4 to 9 Yrs  \n",
       "1       diraa hr services hiring for mncs           0 to 1 Yr  \n",
       "2                yogita staffing solution          0 to 3 Yrs  \n",
       "3                           techno endura           0 to 1 Yr  \n",
       "4                  future solution centre       15 to >25 Yrs  \n",
       "5  boyen haddin consulting and technol...          3 to 6 Yrs  \n",
       "6  boyen haddin consulting and technol...          3 to 6 Yrs  \n",
       "7  boyen haddin consulting and technol...          3 to 6 Yrs  \n",
       "8  boyen haddin consulting and technol...          3 to 6 Yrs  \n",
       "9  ntt data information processing ser...        10 to 20 Yrs  "
      ]
     },
     "execution_count": 43,
     "metadata": {},
     "output_type": "execute_result"
    }
   ],
   "source": [
    "df = pd.DataFrame({\"Job Title\":job_title,\"Location\":job_locations,\"Company name\":company_name,\"Experience required\":experience_required})\n",
    "df"
   ]
  },
  {
   "cell_type": "code",
   "execution_count": null,
   "id": "c351278d",
   "metadata": {},
   "outputs": [],
   "source": []
  }
 ],
 "metadata": {
  "kernelspec": {
   "display_name": "Python 3 (ipykernel)",
   "language": "python",
   "name": "python3"
  },
  "language_info": {
   "codemirror_mode": {
    "name": "ipython",
    "version": 3
   },
   "file_extension": ".py",
   "mimetype": "text/x-python",
   "name": "python",
   "nbconvert_exporter": "python",
   "pygments_lexer": "ipython3",
   "version": "3.10.9"
  }
 },
 "nbformat": 4,
 "nbformat_minor": 5
}
