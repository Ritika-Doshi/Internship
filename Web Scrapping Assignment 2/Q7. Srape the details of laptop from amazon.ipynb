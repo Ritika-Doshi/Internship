{
 "cells": [
  {
   "cell_type": "markdown",
   "id": "18a71b21",
   "metadata": {},
   "source": [
    "## Scrape the details of laptop from amazon."
   ]
  },
  {
   "cell_type": "code",
   "execution_count": 1,
   "id": "18e70518",
   "metadata": {
    "scrolled": true
   },
   "outputs": [
    {
     "name": "stdout",
     "output_type": "stream",
     "text": [
      "Requirement already satisfied: selenium in /Users/pratikajain/anaconda3/lib/python3.10/site-packages (4.17.2)\r\n",
      "Requirement already satisfied: certifi>=2021.10.8 in /Users/pratikajain/anaconda3/lib/python3.10/site-packages (from selenium) (2022.12.7)\r\n",
      "Requirement already satisfied: trio-websocket~=0.9 in /Users/pratikajain/anaconda3/lib/python3.10/site-packages (from selenium) (0.11.1)\r\n",
      "Requirement already satisfied: urllib3[socks]<3,>=1.26 in /Users/pratikajain/anaconda3/lib/python3.10/site-packages (from selenium) (1.26.14)\r\n",
      "Requirement already satisfied: typing_extensions>=4.9.0 in /Users/pratikajain/anaconda3/lib/python3.10/site-packages (from selenium) (4.9.0)\r\n",
      "Requirement already satisfied: trio~=0.17 in /Users/pratikajain/anaconda3/lib/python3.10/site-packages (from selenium) (0.24.0)\r\n",
      "Requirement already satisfied: sortedcontainers in /Users/pratikajain/anaconda3/lib/python3.10/site-packages (from trio~=0.17->selenium) (2.4.0)\r\n",
      "Requirement already satisfied: idna in /Users/pratikajain/anaconda3/lib/python3.10/site-packages (from trio~=0.17->selenium) (3.4)\r\n",
      "Requirement already satisfied: attrs>=20.1.0 in /Users/pratikajain/anaconda3/lib/python3.10/site-packages (from trio~=0.17->selenium) (22.1.0)\r\n",
      "Requirement already satisfied: exceptiongroup in /Users/pratikajain/anaconda3/lib/python3.10/site-packages (from trio~=0.17->selenium) (1.2.0)\r\n",
      "Requirement already satisfied: outcome in /Users/pratikajain/anaconda3/lib/python3.10/site-packages (from trio~=0.17->selenium) (1.3.0.post0)\r\n",
      "Requirement already satisfied: sniffio>=1.3.0 in /Users/pratikajain/anaconda3/lib/python3.10/site-packages (from trio~=0.17->selenium) (1.3.0)\r\n",
      "Requirement already satisfied: wsproto>=0.14 in /Users/pratikajain/anaconda3/lib/python3.10/site-packages (from trio-websocket~=0.9->selenium) (1.2.0)\r\n",
      "Requirement already satisfied: PySocks!=1.5.7,<2.0,>=1.5.6 in /Users/pratikajain/anaconda3/lib/python3.10/site-packages (from urllib3[socks]<3,>=1.26->selenium) (1.7.1)\r\n",
      "Requirement already satisfied: h11<1,>=0.9.0 in /Users/pratikajain/anaconda3/lib/python3.10/site-packages (from wsproto>=0.14->trio-websocket~=0.9->selenium) (0.14.0)\r\n"
     ]
    }
   ],
   "source": [
    "!pip install selenium\n",
    "import selenium\n",
    "import pandas as pd\n",
    "from selenium import webdriver\n",
    "import warnings\n",
    "warnings.filterwarnings('ignore')\n",
    "from selenium.webdriver.common.by import By\n",
    "import time"
   ]
  },
  {
   "cell_type": "code",
   "execution_count": 2,
   "id": "94cff71c",
   "metadata": {},
   "outputs": [],
   "source": [
    "driver = webdriver.Chrome()"
   ]
  },
  {
   "cell_type": "code",
   "execution_count": 3,
   "id": "9d288b37",
   "metadata": {},
   "outputs": [],
   "source": [
    "driver.get(\"https://www.amazon.in\")"
   ]
  },
  {
   "cell_type": "code",
   "execution_count": 5,
   "id": "1007403e",
   "metadata": {},
   "outputs": [],
   "source": [
    "Product = driver.find_element(By.XPATH,'/html/body/div[1]/header/div/div[1]/div[2]/div/form/div[2]/div[1]/input')\n",
    "Product.send_keys('Laptop')"
   ]
  },
  {
   "cell_type": "code",
   "execution_count": 6,
   "id": "fd20ffc8",
   "metadata": {},
   "outputs": [],
   "source": [
    "search= driver.find_element(By.XPATH,'/html/body/div[1]/header/div/div[1]/div[2]/div/form/div[3]/div/span/input')\n",
    "search.click()"
   ]
  },
  {
   "cell_type": "code",
   "execution_count": 9,
   "id": "26ebe19c",
   "metadata": {},
   "outputs": [],
   "source": [
    "CPU_filter=driver.find_element(By.XPATH,'/html/body/div[1]/div[1]/div[1]/div[2]/div/div[3]/span/div[1]/div/div/div[6]/ul[19]/span/span[10]/li/span/a/span')\n",
    "CPU_filter.click()"
   ]
  },
  {
   "cell_type": "code",
   "execution_count": 53,
   "id": "da5df939",
   "metadata": {},
   "outputs": [],
   "source": [
    "Titles=[]\n",
    "Ratings=[]\n",
    "Prices=[]"
   ]
  },
  {
   "cell_type": "code",
   "execution_count": 54,
   "id": "41cc00bc",
   "metadata": {},
   "outputs": [],
   "source": [
    "title_tag=driver.find_elements(By.XPATH,'//span[@class=\"a-size-medium a-color-base a-text-normal\"]')\n",
    "for i in title_tag:\n",
    "    title=i.text\n",
    "    Titles.append(title)\n",
    "\n",
    "rating_tag=driver.find_elements(By.XPATH,'//i[@class=\"a-icon a-icon-star-small a-star-small-4 aok-align-bottom\"]')\n",
    "for i in rating_tag:\n",
    "    rating=i.text\n",
    "    Ratings.append(rating)\n",
    "                            \n",
    "prices_tag=driver.find_elements(By.XPATH,'//span[@class=\"a-price-whole\"]')\n",
    "for i in prices_tag:\n",
    "    price=i.text\n",
    "    Prices.append(price)"
   ]
  },
  {
   "cell_type": "code",
   "execution_count": 55,
   "id": "fe10e8cd",
   "metadata": {},
   "outputs": [],
   "source": [
    "Titles=Titles[:10]\n",
    "Ratings=Ratings[:10]\n",
    "Prices=Prices[:10]"
   ]
  },
  {
   "cell_type": "code",
   "execution_count": 56,
   "id": "7b1aafc0",
   "metadata": {},
   "outputs": [
    {
     "name": "stdout",
     "output_type": "stream",
     "text": [
      "10 10 10\n"
     ]
    }
   ],
   "source": [
    "print(len(Titles),len(Ratings),len(Prices))"
   ]
  },
  {
   "cell_type": "code",
   "execution_count": 57,
   "id": "c6c04be4",
   "metadata": {
    "scrolled": false
   },
   "outputs": [
    {
     "data": {
      "text/html": [
       "<div>\n",
       "<style scoped>\n",
       "    .dataframe tbody tr th:only-of-type {\n",
       "        vertical-align: middle;\n",
       "    }\n",
       "\n",
       "    .dataframe tbody tr th {\n",
       "        vertical-align: top;\n",
       "    }\n",
       "\n",
       "    .dataframe thead th {\n",
       "        text-align: right;\n",
       "    }\n",
       "</style>\n",
       "<table border=\"1\" class=\"dataframe\">\n",
       "  <thead>\n",
       "    <tr style=\"text-align: right;\">\n",
       "      <th></th>\n",
       "      <th>Titles</th>\n",
       "      <th>Ratings</th>\n",
       "      <th>Prices</th>\n",
       "    </tr>\n",
       "  </thead>\n",
       "  <tbody>\n",
       "    <tr>\n",
       "      <th>0</th>\n",
       "      <td>ZEBRONICS NBC 5S Intel Core i7 12th Gen 1255 L...</td>\n",
       "      <td></td>\n",
       "      <td>46,990</td>\n",
       "    </tr>\n",
       "    <tr>\n",
       "      <th>1</th>\n",
       "      <td>Samsung Galaxy Book3 Core i7 13th Gen 1355U - ...</td>\n",
       "      <td></td>\n",
       "      <td>82,990</td>\n",
       "    </tr>\n",
       "    <tr>\n",
       "      <th>2</th>\n",
       "      <td>ASUS TUF Gaming F15, 15.6\"(39.62 cms) FHD 144H...</td>\n",
       "      <td></td>\n",
       "      <td>73,990</td>\n",
       "    </tr>\n",
       "    <tr>\n",
       "      <th>3</th>\n",
       "      <td>MSI Modern 14, Intel 12th Gen. i7-1255U, 36CM ...</td>\n",
       "      <td></td>\n",
       "      <td>54,820</td>\n",
       "    </tr>\n",
       "    <tr>\n",
       "      <th>4</th>\n",
       "      <td>Lenovo IdeaPad Slim 3 Intel Core i7 12th Gen 1...</td>\n",
       "      <td></td>\n",
       "      <td>62,032</td>\n",
       "    </tr>\n",
       "    <tr>\n",
       "      <th>5</th>\n",
       "      <td>Lenovo Yoga Slim7 Carbon Intel Evo i7 1260P 13...</td>\n",
       "      <td></td>\n",
       "      <td>1,17,990</td>\n",
       "    </tr>\n",
       "    <tr>\n",
       "      <th>6</th>\n",
       "      <td>HP Windows 11 Home Victus Gaming Laptop,12Th G...</td>\n",
       "      <td></td>\n",
       "      <td>81,990</td>\n",
       "    </tr>\n",
       "    <tr>\n",
       "      <th>7</th>\n",
       "      <td>Samsung Galaxy Book3 Core i7 13th Gen 1355U - ...</td>\n",
       "      <td></td>\n",
       "      <td>82,990</td>\n",
       "    </tr>\n",
       "    <tr>\n",
       "      <th>8</th>\n",
       "      <td>ASUS Vivobook 15, Intel Core i7-12650H 12th Ge...</td>\n",
       "      <td></td>\n",
       "      <td>64,990</td>\n",
       "    </tr>\n",
       "    <tr>\n",
       "      <th>9</th>\n",
       "      <td>Acer Travelmate Business Laptop Intel Core i7-...</td>\n",
       "      <td></td>\n",
       "      <td>49,990</td>\n",
       "    </tr>\n",
       "  </tbody>\n",
       "</table>\n",
       "</div>"
      ],
      "text/plain": [
       "                                              Titles Ratings    Prices\n",
       "0  ZEBRONICS NBC 5S Intel Core i7 12th Gen 1255 L...            46,990\n",
       "1  Samsung Galaxy Book3 Core i7 13th Gen 1355U - ...            82,990\n",
       "2  ASUS TUF Gaming F15, 15.6\"(39.62 cms) FHD 144H...            73,990\n",
       "3  MSI Modern 14, Intel 12th Gen. i7-1255U, 36CM ...            54,820\n",
       "4  Lenovo IdeaPad Slim 3 Intel Core i7 12th Gen 1...            62,032\n",
       "5  Lenovo Yoga Slim7 Carbon Intel Evo i7 1260P 13...          1,17,990\n",
       "6  HP Windows 11 Home Victus Gaming Laptop,12Th G...            81,990\n",
       "7  Samsung Galaxy Book3 Core i7 13th Gen 1355U - ...            82,990\n",
       "8  ASUS Vivobook 15, Intel Core i7-12650H 12th Ge...            64,990\n",
       "9  Acer Travelmate Business Laptop Intel Core i7-...            49,990"
      ]
     },
     "execution_count": 57,
     "metadata": {},
     "output_type": "execute_result"
    }
   ],
   "source": [
    "df = pd.DataFrame({\"Titles\":Titles,\"Ratings\":Ratings,\"Prices\":Prices})\n",
    "df"
   ]
  },
  {
   "cell_type": "code",
   "execution_count": null,
   "id": "890513f0",
   "metadata": {},
   "outputs": [],
   "source": []
  }
 ],
 "metadata": {
  "kernelspec": {
   "display_name": "Python 3 (ipykernel)",
   "language": "python",
   "name": "python3"
  },
  "language_info": {
   "codemirror_mode": {
    "name": "ipython",
    "version": 3
   },
   "file_extension": ".py",
   "mimetype": "text/x-python",
   "name": "python",
   "nbconvert_exporter": "python",
   "pygments_lexer": "ipython3",
   "version": "3.10.9"
  }
 },
 "nbformat": 4,
 "nbformat_minor": 5
}
