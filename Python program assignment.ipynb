{
 "cells": [
  {
   "cell_type": "markdown",
   "id": "fc132c29",
   "metadata": {},
   "source": [
    "## Python program to find the factorial of the number"
   ]
  },
  {
   "cell_type": "code",
   "execution_count": 59,
   "id": "ef53c7cd",
   "metadata": {},
   "outputs": [],
   "source": [
    "def factorial(x):\n",
    "    if (x==0):\n",
    "        print(\"Factorial of 0 is 1\")\n",
    "    elif (x<0):\n",
    "        print(\"we cannot find factorial for a negative number\")\n",
    "    else :\n",
    "        y = 1\n",
    "        for i in range(1,x + 1):\n",
    "            y = y * i\n",
    "        return y\n",
    "        print('The factorial of the Number is:',factorial(x))\n",
    "        \n",
    "        "
   ]
  },
  {
   "cell_type": "code",
   "execution_count": 60,
   "id": "44ad5078",
   "metadata": {
    "scrolled": true
   },
   "outputs": [
    {
     "data": {
      "text/plain": [
       "120"
      ]
     },
     "execution_count": 60,
     "metadata": {},
     "output_type": "execute_result"
    }
   ],
   "source": [
    "factorial(5)"
   ]
  },
  {
   "cell_type": "code",
   "execution_count": 61,
   "id": "b04ac7c6",
   "metadata": {},
   "outputs": [
    {
     "data": {
      "text/plain": [
       "24"
      ]
     },
     "execution_count": 61,
     "metadata": {},
     "output_type": "execute_result"
    }
   ],
   "source": [
    "factorial(4)"
   ]
  },
  {
   "cell_type": "code",
   "execution_count": 62,
   "id": "258020bf",
   "metadata": {},
   "outputs": [
    {
     "data": {
      "text/plain": [
       "5040"
      ]
     },
     "execution_count": 62,
     "metadata": {},
     "output_type": "execute_result"
    }
   ],
   "source": [
    "factorial(7)"
   ]
  },
  {
   "cell_type": "markdown",
   "id": "c2001eeb",
   "metadata": {},
   "source": [
    "## python program to find whether a number is prime or composite.  (defining function)\n",
    "\n"
   ]
  },
  {
   "cell_type": "code",
   "execution_count": 86,
   "id": "a1c7ae25",
   "metadata": {},
   "outputs": [],
   "source": [
    "def prime_composite(x):\n",
    "    for i in range(2,x):\n",
    "        if (x == 0 or x == 1):\n",
    "            print(\"It's neither a prime number nor composite number.\")\n",
    "            break\n",
    "        elif(x%i)== 0:\n",
    "            print(\"It's a composite number.\")\n",
    "            break\n",
    "        else :\n",
    "            print(\"It's a prime number.\")\n",
    "            return\n",
    "            \n",
    "        "
   ]
  },
  {
   "cell_type": "code",
   "execution_count": 87,
   "id": "fdd45fca",
   "metadata": {},
   "outputs": [
    {
     "name": "stdout",
     "output_type": "stream",
     "text": [
      "It's a prime number.\n"
     ]
    }
   ],
   "source": [
    "prime_composite(5)"
   ]
  },
  {
   "cell_type": "code",
   "execution_count": 88,
   "id": "49d2793b",
   "metadata": {},
   "outputs": [
    {
     "name": "stdout",
     "output_type": "stream",
     "text": [
      "It's a composite number.\n"
     ]
    }
   ],
   "source": [
    "prime_composite(6)"
   ]
  },
  {
   "cell_type": "code",
   "execution_count": 89,
   "id": "0657d657",
   "metadata": {},
   "outputs": [
    {
     "name": "stdout",
     "output_type": "stream",
     "text": [
      "It's a composite number.\n"
     ]
    }
   ],
   "source": [
    "prime_composite(14)"
   ]
  },
  {
   "cell_type": "code",
   "execution_count": 90,
   "id": "ee363dac",
   "metadata": {},
   "outputs": [
    {
     "name": "stdout",
     "output_type": "stream",
     "text": [
      "It's a composite number.\n"
     ]
    }
   ],
   "source": [
    "prime_composite(116)"
   ]
  },
  {
   "cell_type": "code",
   "execution_count": 94,
   "id": "23cd23aa",
   "metadata": {},
   "outputs": [
    {
     "name": "stdout",
     "output_type": "stream",
     "text": [
      "It's a composite number.\n"
     ]
    }
   ],
   "source": [
    "prime_composite(12)"
   ]
  },
  {
   "cell_type": "code",
   "execution_count": 92,
   "id": "e70f2b3d",
   "metadata": {},
   "outputs": [
    {
     "name": "stdout",
     "output_type": "stream",
     "text": [
      "It's a prime number.\n"
     ]
    }
   ],
   "source": [
    "prime_composite(97)"
   ]
  },
  {
   "cell_type": "code",
   "execution_count": 95,
   "id": "b56e66a2",
   "metadata": {},
   "outputs": [
    {
     "name": "stdout",
     "output_type": "stream",
     "text": [
      "It's a prime number.\n"
     ]
    }
   ],
   "source": [
    "prime_composite(133)"
   ]
  },
  {
   "cell_type": "markdown",
   "id": "56cfec70",
   "metadata": {},
   "source": [
    "## python program to find whether a number is prime or composite. "
   ]
  },
  {
   "cell_type": "code",
   "execution_count": 105,
   "id": "2d76682e",
   "metadata": {},
   "outputs": [
    {
     "name": "stdout",
     "output_type": "stream",
     "text": [
      "Enter the number: 68\n",
      "It's a composite number.\n"
     ]
    }
   ],
   "source": [
    "x = int(input(\"Enter the number: \"))\n",
    "\n",
    "for i in range(2,x):\n",
    "        if (x == 0 or x == 1):\n",
    "            print(\"It's neither a prime number nor composite number.\")\n",
    "            break\n",
    "        elif(x%i)== 0:\n",
    "            print(\"It's a composite number.\")\n",
    "            break\n",
    "        else :\n",
    "            print(\"It's a prime number.\")\n",
    "        \n",
    "    "
   ]
  },
  {
   "cell_type": "markdown",
   "id": "ad4d10a4",
   "metadata": {},
   "source": [
    "## python program to check whether a given string is palindrome or not. "
   ]
  },
  {
   "cell_type": "code",
   "execution_count": 122,
   "id": "7beea4f0",
   "metadata": {},
   "outputs": [
    {
     "name": "stdout",
     "output_type": "stream",
     "text": [
      "Enter the word: Madam\n",
      "madam\n",
      "madam\n",
      "The string is palindrome\n"
     ]
    }
   ],
   "source": [
    "x = str(input(\"Enter the word: \"))\n",
    "x = str.lower(x)\n",
    "y = str.lower(x[::-1])\n",
    "print(x)\n",
    "print(y)\n",
    "\n",
    "\n",
    "z= (y == x)\n",
    "if (z == True):\n",
    "    print(\"The string is palindrome\")\n",
    "    \n",
    "else:\n",
    "    print(\"The string is not palindrome\")\n",
    "    "
   ]
  },
  {
   "cell_type": "markdown",
   "id": "899b94e7",
   "metadata": {},
   "source": [
    "## Python program to get the third side of right-angled triangle from two given sides. "
   ]
  },
  {
   "cell_type": "code",
   "execution_count": 140,
   "id": "95198d4d",
   "metadata": {},
   "outputs": [],
   "source": [
    "def pythagoras(h,p,b):\n",
    "    \n",
    "    if(h==str(\"x\")):\n",
    "        h = ((p*p) + (b*b))**0.5\n",
    "        print(\"Hypotaneous :\",h)\n",
    "        \n",
    "    elif(p==str(\"x\")):\n",
    "        p = ((h*h) - (b*b))**0.5\n",
    "        print(\"Perpendicular :\",p)\n",
    "        \n",
    "    elif(b==str(\"x\")):\n",
    "        b = ((h*h) - (p*p))**0.5\n",
    "        print(\"Base :\",b)\n",
    "    else:\n",
    "        print(\"Invalid information\")\n",
    "        \n",
    "        \n",
    "    \n",
    "   "
   ]
  },
  {
   "cell_type": "code",
   "execution_count": 141,
   "id": "11f195a4",
   "metadata": {
    "scrolled": true
   },
   "outputs": [
    {
     "name": "stdout",
     "output_type": "stream",
     "text": [
      "Hypotaneous : 5.0\n"
     ]
    }
   ],
   "source": [
    "pythagoras('x',3,4)"
   ]
  },
  {
   "cell_type": "code",
   "execution_count": 142,
   "id": "ce7c1781",
   "metadata": {},
   "outputs": [
    {
     "name": "stdout",
     "output_type": "stream",
     "text": [
      "Perpendicular : 8.0\n"
     ]
    }
   ],
   "source": [
    "pythagoras(10,'x',6)"
   ]
  },
  {
   "cell_type": "code",
   "execution_count": 143,
   "id": "82cc9ab4",
   "metadata": {},
   "outputs": [
    {
     "name": "stdout",
     "output_type": "stream",
     "text": [
      "Base : 6.0\n"
     ]
    }
   ],
   "source": [
    "pythagoras(10,8,'x')"
   ]
  },
  {
   "cell_type": "markdown",
   "id": "09716dc3",
   "metadata": {},
   "source": [
    "## python program to print the frequency of each of the characters present in a given string. "
   ]
  },
  {
   "cell_type": "code",
   "execution_count": 167,
   "id": "e28d5299",
   "metadata": {},
   "outputs": [
    {
     "name": "stdout",
     "output_type": "stream",
     "text": [
      "Enter the string:Rare\n",
      "a 1\n",
      "r 1\n",
      "e 1\n",
      "R 1\n"
     ]
    }
   ],
   "source": [
    "# case sensitive \n",
    "string = str(input(\"Enter the string:\"))\n",
    "x = set(string)\n",
    "for i in x:\n",
    "    print(i,string.count(i))\n"
   ]
  },
  {
   "cell_type": "code",
   "execution_count": 172,
   "id": "e061d85f",
   "metadata": {},
   "outputs": [
    {
     "name": "stdout",
     "output_type": "stream",
     "text": [
      "Enter the string:Rare\n",
      "a 1\n",
      "r 2\n",
      "e 1\n"
     ]
    }
   ],
   "source": [
    "# ignoring case\n",
    "string = str(input(\"Enter the string:\"))\n",
    "string= str.lower(string)\n",
    "x = set(string)\n",
    "\n",
    "for i in x:\n",
    "    print(i,string.count(i))"
   ]
  },
  {
   "cell_type": "code",
   "execution_count": null,
   "id": "73aae5f8",
   "metadata": {},
   "outputs": [],
   "source": []
  }
 ],
 "metadata": {
  "kernelspec": {
   "display_name": "Python 3 (ipykernel)",
   "language": "python",
   "name": "python3"
  },
  "language_info": {
   "codemirror_mode": {
    "name": "ipython",
    "version": 3
   },
   "file_extension": ".py",
   "mimetype": "text/x-python",
   "name": "python",
   "nbconvert_exporter": "python",
   "pygments_lexer": "ipython3",
   "version": "3.10.9"
  }
 },
 "nbformat": 4,
 "nbformat_minor": 5
}
